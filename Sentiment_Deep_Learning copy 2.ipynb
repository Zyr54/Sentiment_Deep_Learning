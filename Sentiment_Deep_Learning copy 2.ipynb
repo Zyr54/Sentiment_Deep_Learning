{
  "cells": [
    {
      "cell_type": "markdown",
      "metadata": {
        "id": "Wc-noI-Lh5Tb"
      },
      "source": [
        "<h1><center>Projet Deep Learning: <br/> Analyse de Sentiment</center></h1>\n",
        "<br/>\n",
        "<div class='text-danger'><center> Objectif : Déterminer les sentiment d'un tweet</center></div>"
      ]
    },
    {
      "cell_type": "markdown",
      "metadata": {
        "id": "Ekt8YPY2h_L8"
      },
      "source": [
        "## L'objectif du projet\n",
        "Nous devons utiliser nos connaissances acquises en cours afin de :\n",
        "* Utiliser le Deep Learning\n",
        "\n",
        "Dans notre cas, nous avons sélectionné le dataset \"Sentiment140\". Le but est de déterminer les sentiments qui ressortent d'un tweet grâce au Deep Leaning"
      ]
    },
    {
      "cell_type": "markdown",
      "metadata": {
        "id": "YSVh29YniB3A"
      },
      "source": [
        "## Préparation du Dataset"
      ]
    },
    {
      "cell_type": "markdown",
      "metadata": {
        "id": "EGO2wLOViDYk"
      },
      "source": [
        "### Importation des bibliothèques nécessaires à notre projet"
      ]
    },
    {
      "cell_type": "code",
      "execution_count": 1,
      "metadata": {
        "colab": {
          "base_uri": "https://localhost:8080/"
        },
        "id": "ko8D6LDeiF9-",
        "outputId": "e86e663e-c0c8-4f04-e012-8dbd3fef426f"
      },
      "outputs": [
        {
          "name": "stderr",
          "output_type": "stream",
          "text": [
            "c:\\Users\\Zyr\\AppData\\Local\\Programs\\Python\\Python310\\lib\\site-packages\\scipy\\__init__.py:146: UserWarning: A NumPy version >=1.16.5 and <1.23.0 is required for this version of SciPy (detected version 1.23.3\n",
            "  warnings.warn(f\"A NumPy version >={np_minversion} and <{np_maxversion}\"\n",
            "[nltk_data] Downloading package stopwords to\n",
            "[nltk_data]     C:\\Users\\Zyr\\AppData\\Roaming\\nltk_data...\n",
            "[nltk_data]   Package stopwords is already up-to-date!\n"
          ]
        }
      ],
      "source": [
        "import torch\n",
        "import pandas as pd\n",
        "import numpy as np\n",
        "import matplotlib.pyplot as plt\n",
        "import nltk\n",
        "nltk.download('stopwords')\n",
        "from nltk.corpus import stopwords\n",
        "from nltk.stem import SnowballStemmer\n",
        "from sklearn.model_selection import train_test_split\n",
        "from sklearn.preprocessing import LabelEncoder\n",
        "import random\n",
        "import re\n",
        "from wordcloud import WordCloud\n",
        "from keras.preprocessing.text import Tokenizer\n",
        "from keras_preprocessing.sequence import pad_sequences\n",
        "import opendatasets as od\n",
        "import codecs\n",
        "import tensorflow as tf\n",
        "from torch import nn\n",
        "from torch.nn.utils.rnn import pack_padded_sequence, pad_packed_sequence\n",
        "from torch.utils.data import TensorDataset, DataLoader"
      ]
    },
    {
      "cell_type": "markdown",
      "metadata": {
        "id": "a-5ZlusHiJ6M"
      },
      "source": [
        "### Initialisation du Dataset"
      ]
    },
    {
      "cell_type": "code",
      "execution_count": 2,
      "metadata": {
        "colab": {
          "base_uri": "https://localhost:8080/"
        },
        "id": "DSddB72tCPu3",
        "outputId": "37f07dff-8d00-4d4c-ff05-09c61b14179d"
      },
      "outputs": [
        {
          "name": "stdout",
          "output_type": "stream",
          "text": [
            "Skipping, found downloaded files in \".\\sentiment140\" (use force=True to force download)\n"
          ]
        }
      ],
      "source": [
        "od.download(\"https://www.kaggle.com/datasets/kazanova/sentiment140\")"
      ]
    },
    {
      "cell_type": "code",
      "execution_count": 3,
      "metadata": {
        "colab": {
          "base_uri": "https://localhost:8080/",
          "height": 704
        },
        "id": "U6f8ZPJqgEPo",
        "outputId": "31ba12cc-0bbd-45b6-c43b-e4540ac5c641"
      },
      "outputs": [
        {
          "data": {
            "text/html": [
              "<div>\n",
              "<style scoped>\n",
              "    .dataframe tbody tr th:only-of-type {\n",
              "        vertical-align: middle;\n",
              "    }\n",
              "\n",
              "    .dataframe tbody tr th {\n",
              "        vertical-align: top;\n",
              "    }\n",
              "\n",
              "    .dataframe thead th {\n",
              "        text-align: right;\n",
              "    }\n",
              "</style>\n",
              "<table border=\"1\" class=\"dataframe\">\n",
              "  <thead>\n",
              "    <tr style=\"text-align: right;\">\n",
              "      <th></th>\n",
              "      <th>0</th>\n",
              "      <th>1467810369</th>\n",
              "      <th>Mon Apr 06 22:19:45 PDT 2009</th>\n",
              "      <th>NO_QUERY</th>\n",
              "      <th>_TheSpecialOne_</th>\n",
              "      <th>@switchfoot http://twitpic.com/2y1zl - Awww, that's a bummer.  You shoulda got David Carr of Third Day to do it. ;D</th>\n",
              "    </tr>\n",
              "  </thead>\n",
              "  <tbody>\n",
              "    <tr>\n",
              "      <th>0</th>\n",
              "      <td>0</td>\n",
              "      <td>1467810672</td>\n",
              "      <td>Mon Apr 06 22:19:49 PDT 2009</td>\n",
              "      <td>NO_QUERY</td>\n",
              "      <td>scotthamilton</td>\n",
              "      <td>is upset that he can't update his Facebook by ...</td>\n",
              "    </tr>\n",
              "    <tr>\n",
              "      <th>1</th>\n",
              "      <td>0</td>\n",
              "      <td>1467810917</td>\n",
              "      <td>Mon Apr 06 22:19:53 PDT 2009</td>\n",
              "      <td>NO_QUERY</td>\n",
              "      <td>mattycus</td>\n",
              "      <td>@Kenichan I dived many times for the ball. Man...</td>\n",
              "    </tr>\n",
              "    <tr>\n",
              "      <th>2</th>\n",
              "      <td>0</td>\n",
              "      <td>1467811184</td>\n",
              "      <td>Mon Apr 06 22:19:57 PDT 2009</td>\n",
              "      <td>NO_QUERY</td>\n",
              "      <td>ElleCTF</td>\n",
              "      <td>my whole body feels itchy and like its on fire</td>\n",
              "    </tr>\n",
              "    <tr>\n",
              "      <th>3</th>\n",
              "      <td>0</td>\n",
              "      <td>1467811193</td>\n",
              "      <td>Mon Apr 06 22:19:57 PDT 2009</td>\n",
              "      <td>NO_QUERY</td>\n",
              "      <td>Karoli</td>\n",
              "      <td>@nationwideclass no, it's not behaving at all....</td>\n",
              "    </tr>\n",
              "    <tr>\n",
              "      <th>4</th>\n",
              "      <td>0</td>\n",
              "      <td>1467811372</td>\n",
              "      <td>Mon Apr 06 22:20:00 PDT 2009</td>\n",
              "      <td>NO_QUERY</td>\n",
              "      <td>joy_wolf</td>\n",
              "      <td>@Kwesidei not the whole crew</td>\n",
              "    </tr>\n",
              "  </tbody>\n",
              "</table>\n",
              "</div>"
            ],
            "text/plain": [
              "   0  1467810369  Mon Apr 06 22:19:45 PDT 2009  NO_QUERY _TheSpecialOne_  \\\n",
              "0  0  1467810672  Mon Apr 06 22:19:49 PDT 2009  NO_QUERY   scotthamilton   \n",
              "1  0  1467810917  Mon Apr 06 22:19:53 PDT 2009  NO_QUERY        mattycus   \n",
              "2  0  1467811184  Mon Apr 06 22:19:57 PDT 2009  NO_QUERY         ElleCTF   \n",
              "3  0  1467811193  Mon Apr 06 22:19:57 PDT 2009  NO_QUERY          Karoli   \n",
              "4  0  1467811372  Mon Apr 06 22:20:00 PDT 2009  NO_QUERY        joy_wolf   \n",
              "\n",
              "  @switchfoot http://twitpic.com/2y1zl - Awww, that's a bummer.  You shoulda got David Carr of Third Day to do it. ;D  \n",
              "0  is upset that he can't update his Facebook by ...                                                                   \n",
              "1  @Kenichan I dived many times for the ball. Man...                                                                   \n",
              "2    my whole body feels itchy and like its on fire                                                                    \n",
              "3  @nationwideclass no, it's not behaving at all....                                                                   \n",
              "4                      @Kwesidei not the whole crew                                                                    "
            ]
          },
          "execution_count": 3,
          "metadata": {},
          "output_type": "execute_result"
        }
      ],
      "source": [
        "file = ('sentiment140/training.1600000.processed.noemoticon.csv')\n",
        "Data_set = pd.read_csv(file, delimiter=',', encoding='latin1')\n",
        "  \n",
        "Data_set.head()\n",
        "\n"
      ]
    },
    {
      "cell_type": "markdown",
      "metadata": {
        "id": "JCXJa8Q_k1FR"
      },
      "source": [
        "Comme nous pouvons le voir, notre dataset n'a pas des noms de colonnes très lisibles, on va donc les renommer.\n",
        "\n"
      ]
    },
    {
      "cell_type": "code",
      "execution_count": 4,
      "metadata": {
        "colab": {
          "base_uri": "https://localhost:8080/",
          "height": 424
        },
        "id": "zolG03pOk0kD",
        "outputId": "7f74c108-33c5-4bf7-9a87-da4c2b7b6b71"
      },
      "outputs": [
        {
          "data": {
            "text/html": [
              "<div>\n",
              "<style scoped>\n",
              "    .dataframe tbody tr th:only-of-type {\n",
              "        vertical-align: middle;\n",
              "    }\n",
              "\n",
              "    .dataframe tbody tr th {\n",
              "        vertical-align: top;\n",
              "    }\n",
              "\n",
              "    .dataframe thead th {\n",
              "        text-align: right;\n",
              "    }\n",
              "</style>\n",
              "<table border=\"1\" class=\"dataframe\">\n",
              "  <thead>\n",
              "    <tr style=\"text-align: right;\">\n",
              "      <th></th>\n",
              "      <th>sentiment</th>\n",
              "      <th>id</th>\n",
              "      <th>date</th>\n",
              "      <th>query</th>\n",
              "      <th>user_id</th>\n",
              "      <th>text</th>\n",
              "    </tr>\n",
              "  </thead>\n",
              "  <tbody>\n",
              "    <tr>\n",
              "      <th>0</th>\n",
              "      <td>0</td>\n",
              "      <td>1467810672</td>\n",
              "      <td>Mon Apr 06 22:19:49 PDT 2009</td>\n",
              "      <td>NO_QUERY</td>\n",
              "      <td>scotthamilton</td>\n",
              "      <td>is upset that he can't update his Facebook by ...</td>\n",
              "    </tr>\n",
              "    <tr>\n",
              "      <th>1</th>\n",
              "      <td>0</td>\n",
              "      <td>1467810917</td>\n",
              "      <td>Mon Apr 06 22:19:53 PDT 2009</td>\n",
              "      <td>NO_QUERY</td>\n",
              "      <td>mattycus</td>\n",
              "      <td>@Kenichan I dived many times for the ball. Man...</td>\n",
              "    </tr>\n",
              "    <tr>\n",
              "      <th>2</th>\n",
              "      <td>0</td>\n",
              "      <td>1467811184</td>\n",
              "      <td>Mon Apr 06 22:19:57 PDT 2009</td>\n",
              "      <td>NO_QUERY</td>\n",
              "      <td>ElleCTF</td>\n",
              "      <td>my whole body feels itchy and like its on fire</td>\n",
              "    </tr>\n",
              "    <tr>\n",
              "      <th>3</th>\n",
              "      <td>0</td>\n",
              "      <td>1467811193</td>\n",
              "      <td>Mon Apr 06 22:19:57 PDT 2009</td>\n",
              "      <td>NO_QUERY</td>\n",
              "      <td>Karoli</td>\n",
              "      <td>@nationwideclass no, it's not behaving at all....</td>\n",
              "    </tr>\n",
              "    <tr>\n",
              "      <th>4</th>\n",
              "      <td>0</td>\n",
              "      <td>1467811372</td>\n",
              "      <td>Mon Apr 06 22:20:00 PDT 2009</td>\n",
              "      <td>NO_QUERY</td>\n",
              "      <td>joy_wolf</td>\n",
              "      <td>@Kwesidei not the whole crew</td>\n",
              "    </tr>\n",
              "  </tbody>\n",
              "</table>\n",
              "</div>"
            ],
            "text/plain": [
              "   sentiment          id                          date     query  \\\n",
              "0          0  1467810672  Mon Apr 06 22:19:49 PDT 2009  NO_QUERY   \n",
              "1          0  1467810917  Mon Apr 06 22:19:53 PDT 2009  NO_QUERY   \n",
              "2          0  1467811184  Mon Apr 06 22:19:57 PDT 2009  NO_QUERY   \n",
              "3          0  1467811193  Mon Apr 06 22:19:57 PDT 2009  NO_QUERY   \n",
              "4          0  1467811372  Mon Apr 06 22:20:00 PDT 2009  NO_QUERY   \n",
              "\n",
              "         user_id                                               text  \n",
              "0  scotthamilton  is upset that he can't update his Facebook by ...  \n",
              "1       mattycus  @Kenichan I dived many times for the ball. Man...  \n",
              "2        ElleCTF    my whole body feels itchy and like its on fire   \n",
              "3         Karoli  @nationwideclass no, it's not behaving at all....  \n",
              "4       joy_wolf                      @Kwesidei not the whole crew   "
            ]
          },
          "execution_count": 4,
          "metadata": {},
          "output_type": "execute_result"
        }
      ],
      "source": [
        "Data_set.columns = ['sentiment', 'id', 'date', 'query', 'user_id', 'text']\n",
        "Data_set.head()"
      ]
    },
    {
      "cell_type": "markdown",
      "metadata": {
        "id": "6px5y_nMlfDD"
      },
      "source": [
        "Nous n'avons pas besoin des colonnes 'id', 'date', 'query' et 'user_id' puisque nous allons traiter le texte et les sentiments seulement, indépendamment des autres données."
      ]
    },
    {
      "cell_type": "code",
      "execution_count": 5,
      "metadata": {
        "id": "GX1Iv8H8i4lk"
      },
      "outputs": [],
      "source": [
        "Data_set = Data_set.drop(['id', 'date', 'query', 'user_id'], axis=1)"
      ]
    },
    {
      "cell_type": "code",
      "execution_count": 6,
      "metadata": {
        "colab": {
          "base_uri": "https://localhost:8080/",
          "height": 206
        },
        "id": "ZvZpi23yl-1u",
        "outputId": "53f0527d-0327-469c-bd7e-bfe676ccc4b0"
      },
      "outputs": [
        {
          "data": {
            "text/html": [
              "<div>\n",
              "<style scoped>\n",
              "    .dataframe tbody tr th:only-of-type {\n",
              "        vertical-align: middle;\n",
              "    }\n",
              "\n",
              "    .dataframe tbody tr th {\n",
              "        vertical-align: top;\n",
              "    }\n",
              "\n",
              "    .dataframe thead th {\n",
              "        text-align: right;\n",
              "    }\n",
              "</style>\n",
              "<table border=\"1\" class=\"dataframe\">\n",
              "  <thead>\n",
              "    <tr style=\"text-align: right;\">\n",
              "      <th></th>\n",
              "      <th>sentiment</th>\n",
              "      <th>text</th>\n",
              "    </tr>\n",
              "  </thead>\n",
              "  <tbody>\n",
              "    <tr>\n",
              "      <th>0</th>\n",
              "      <td>Negative</td>\n",
              "      <td>is upset that he can't update his Facebook by ...</td>\n",
              "    </tr>\n",
              "    <tr>\n",
              "      <th>1</th>\n",
              "      <td>Negative</td>\n",
              "      <td>@Kenichan I dived many times for the ball. Man...</td>\n",
              "    </tr>\n",
              "    <tr>\n",
              "      <th>2</th>\n",
              "      <td>Negative</td>\n",
              "      <td>my whole body feels itchy and like its on fire</td>\n",
              "    </tr>\n",
              "    <tr>\n",
              "      <th>3</th>\n",
              "      <td>Negative</td>\n",
              "      <td>@nationwideclass no, it's not behaving at all....</td>\n",
              "    </tr>\n",
              "    <tr>\n",
              "      <th>4</th>\n",
              "      <td>Negative</td>\n",
              "      <td>@Kwesidei not the whole crew</td>\n",
              "    </tr>\n",
              "  </tbody>\n",
              "</table>\n",
              "</div>"
            ],
            "text/plain": [
              "  sentiment                                               text\n",
              "0  Negative  is upset that he can't update his Facebook by ...\n",
              "1  Negative  @Kenichan I dived many times for the ball. Man...\n",
              "2  Negative    my whole body feels itchy and like its on fire \n",
              "3  Negative  @nationwideclass no, it's not behaving at all....\n",
              "4  Negative                      @Kwesidei not the whole crew "
            ]
          },
          "execution_count": 6,
          "metadata": {},
          "output_type": "execute_result"
        }
      ],
      "source": [
        "lab_to_sentiment = {0:\"Negative\", 4:\"Positive\"}\n",
        "def label_decoder(label):\n",
        "  return lab_to_sentiment[label]\n",
        "Data_set.sentiment = Data_set.sentiment.apply(lambda x: label_decoder(x))\n",
        "Data_set.head()"
      ]
    },
    {
      "cell_type": "markdown",
      "metadata": {
        "id": "RZVwNic9lzow"
      },
      "source": [
        "Regardons la répartition des données du dataset pour être sûr d'avoir bien une bon nombre de chaques classes (ici sentiments négatifs et sentiments positifs)."
      ]
    },
    {
      "cell_type": "code",
      "execution_count": 7,
      "metadata": {
        "colab": {
          "base_uri": "https://localhost:8080/",
          "height": 299
        },
        "id": "PW_u02QDm6qY",
        "outputId": "b7d4fcbf-c727-4292-f8af-1a75675d62e7"
      },
      "outputs": [
        {
          "data": {
            "text/plain": [
              "Text(0.5, 1.0, 'Distribution des données des sentiments')"
            ]
          },
          "execution_count": 7,
          "metadata": {},
          "output_type": "execute_result"
        },
        {
          "data": {
            "image/png": "[encoded data removed]",
            "text/plain": [
              "<Figure size 576x288 with 1 Axes>"
            ]
          },
          "metadata": {
            "needs_background": "light"
          },
          "output_type": "display_data"
        }
      ],
      "source": [
        "val_count = Data_set.sentiment.value_counts()\n",
        "\n",
        "plt.figure(figsize=(8,4))\n",
        "plt.bar(val_count.index, val_count.values)\n",
        "plt.title(\"Distribution des données des sentiments\")"
      ]
    },
    {
      "cell_type": "markdown",
      "metadata": {
        "id": "wQfZ3l5foBPJ"
      },
      "source": [
        "On peut voir qu'on a approximativement 50% pour chaque classes, ce qui est parfait.\n",
        "Voyons maintenant quelques données de notre dataset."
      ]
    },
    {
      "cell_type": "code",
      "execution_count": 8,
      "metadata": {
        "colab": {
          "base_uri": "https://localhost:8080/",
          "height": 363
        },
        "id": "jpP7K1jUo9u3",
        "outputId": "d8316c52-d1ac-4578-baaa-10508719360b"
      },
      "outputs": [
        {
          "data": {
            "text/html": [
              "<div>\n",
              "<style scoped>\n",
              "    .dataframe tbody tr th:only-of-type {\n",
              "        vertical-align: middle;\n",
              "    }\n",
              "\n",
              "    .dataframe tbody tr th {\n",
              "        vertical-align: top;\n",
              "    }\n",
              "\n",
              "    .dataframe thead th {\n",
              "        text-align: right;\n",
              "    }\n",
              "</style>\n",
              "<table border=\"1\" class=\"dataframe\">\n",
              "  <thead>\n",
              "    <tr style=\"text-align: right;\">\n",
              "      <th></th>\n",
              "      <th>sentiment</th>\n",
              "      <th>text</th>\n",
              "    </tr>\n",
              "  </thead>\n",
              "  <tbody>\n",
              "    <tr>\n",
              "      <th>1576383</th>\n",
              "      <td>Positive</td>\n",
              "      <td>3 offers of brekky tomorrow (will choose degra...</td>\n",
              "    </tr>\n",
              "    <tr>\n",
              "      <th>645763</th>\n",
              "      <td>Negative</td>\n",
              "      <td>@rosalindc aaah, that's what I was worried about</td>\n",
              "    </tr>\n",
              "    <tr>\n",
              "      <th>1319515</th>\n",
              "      <td>Positive</td>\n",
              "      <td>@Berndhard I know!  I'm the best worker ever *...</td>\n",
              "    </tr>\n",
              "    <tr>\n",
              "      <th>883755</th>\n",
              "      <td>Positive</td>\n",
              "      <td>Feel happy today. Dad is doing OK, had a good ...</td>\n",
              "    </tr>\n",
              "    <tr>\n",
              "      <th>1346335</th>\n",
              "      <td>Positive</td>\n",
              "      <td>@selenagomez I will move with you</td>\n",
              "    </tr>\n",
              "    <tr>\n",
              "      <th>971798</th>\n",
              "      <td>Positive</td>\n",
              "      <td>@kg86 thanq</td>\n",
              "    </tr>\n",
              "    <tr>\n",
              "      <th>1276186</th>\n",
              "      <td>Positive</td>\n",
              "      <td>@Flossii_Fresco Go to bed!!!  You know you gon...</td>\n",
              "    </tr>\n",
              "    <tr>\n",
              "      <th>67809</th>\n",
              "      <td>Negative</td>\n",
              "      <td>I hate and don't want to talk on the phone unl...</td>\n",
              "    </tr>\n",
              "    <tr>\n",
              "      <th>845082</th>\n",
              "      <td>Positive</td>\n",
              "      <td>wants that dress i saw the other day! and im g...</td>\n",
              "    </tr>\n",
              "    <tr>\n",
              "      <th>69975</th>\n",
              "      <td>Negative</td>\n",
              "      <td>just finished my english essay. more hw, but t...</td>\n",
              "    </tr>\n",
              "  </tbody>\n",
              "</table>\n",
              "</div>"
            ],
            "text/plain": [
              "        sentiment                                               text\n",
              "1576383  Positive  3 offers of brekky tomorrow (will choose degra...\n",
              "645763   Negative  @rosalindc aaah, that's what I was worried about \n",
              "1319515  Positive  @Berndhard I know!  I'm the best worker ever *...\n",
              "883755   Positive  Feel happy today. Dad is doing OK, had a good ...\n",
              "1346335  Positive                 @selenagomez I will move with you \n",
              "971798   Positive                                       @kg86 thanq \n",
              "1276186  Positive  @Flossii_Fresco Go to bed!!!  You know you gon...\n",
              "67809    Negative  I hate and don't want to talk on the phone unl...\n",
              "845082   Positive  wants that dress i saw the other day! and im g...\n",
              "69975    Negative  just finished my english essay. more hw, but t..."
            ]
          },
          "execution_count": 8,
          "metadata": {},
          "output_type": "execute_result"
        }
      ],
      "source": [
        "random_idx_list = [random.randint(1,len(Data_set.text)) for i in range(10)] # Créer des index aléatoires à choisir dans notre dataset \n",
        "Data_set.loc[random_idx_list,:].head(10) # Renvoi les lignes de nos indexs et les affichent"
      ]
    },
    {
      "cell_type": "markdown",
      "metadata": {
        "id": "D5kvGQjPp0na"
      },
      "source": [
        "Nos textes contiennent des données inutiles tels que les @user, certaines ponctuations, hyperlinks, émoticones etc...\n",
        "Il va falloir trier tout ça pour avoir un jeu de donnée propre."
      ]
    },
    {
      "cell_type": "markdown",
      "metadata": {
        "id": "iGQRu6qMqXJd"
      },
      "source": [
        "### Traitements des données textuels"
      ]
    },
    {
      "cell_type": "markdown",
      "metadata": {
        "id": "6IuBT2fKrKIG"
      },
      "source": [
        "Nous allons utiliser les principes de \"**Stemming**\" et \"**Lematization**\" pour ce faire.\n",
        "Le principe des deux est de réduire les formes de mots dérivées vers une forme de base commune.\n",
        "\n",
        "Le \"Stemming\" est un processus qui coupe la fin des mots.\n",
        "\n",
        "Le \"Lematization\" est un processus d'analyse vocabulaire et morphologique des mots, qui a pour but de renvoyer la forme de base d'un mot."
      ]
    },
    {
      "cell_type": "markdown",
      "metadata": {
        "id": "u5uTIeDZt0hf"
      },
      "source": [
        "![Stemming_Lematization.jpeg](data:image/jpeg;base64,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)"
      ]
    },
    {
      "cell_type": "markdown",
      "metadata": {
        "id": "x7nJQFrcuLKK"
      },
      "source": [
        "Nous allons également traiter les \"Stopwords\" qui sont des mots anglais qui n'ont aucune valeur et n'apportes rien au sens d'une phrase.\n",
        "\n",
        "Par exemple:"
      ]
    },
    {
      "cell_type": "markdown",
      "metadata": {
        "id": "2_JkkieZutIh"
      },
      "source": [
        "![List-of-Stopwords-in-Text-Mining-Library-of-R.png](data:image/png;base64,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)"
      ]
    },
    {
      "cell_type": "code",
      "execution_count": 9,
      "metadata": {
        "id": "GUIeA-S1qA0K"
      },
      "outputs": [],
      "source": [
        "stop_words = stopwords.words('english')\n",
        "stemmer = SnowballStemmer('english')\n",
        "\n",
        "re_cleaner = \"@\\S+|https?:\\S+|http?:\\S|[^A-Za-z0-9]+\""
      ]
    },
    {
      "cell_type": "code",
      "execution_count": 10,
      "metadata": {
        "id": "enO2hS0dvU42"
      },
      "outputs": [],
      "source": [
        "def preprocess(text, stem=False):\n",
        "  text = re.sub(re_cleaner, ' ', str(text).lower()).strip()\n",
        "  tokens = []\n",
        "  for token in text.split():\n",
        "    if token not in stop_words:\n",
        "      if stem:\n",
        "        tokens.append(stemmer.stem(token))\n",
        "      else:\n",
        "        tokens.append(token)\n",
        "  return \" \".join(tokens)"
      ]
    },
    {
      "cell_type": "code",
      "execution_count": 11,
      "metadata": {
        "id": "v1YRGQkYvb0m"
      },
      "outputs": [],
      "source": [
        "Data_set.text = Data_set.text.apply(lambda x: preprocess(x))"
      ]
    },
    {
      "cell_type": "markdown",
      "metadata": {
        "id": "--McAcAYR_Zq"
      },
      "source": [
        "Mots **positifs** les plus présents :"
      ]
    },
    {
      "cell_type": "code",
      "execution_count": 12,
      "metadata": {
        "colab": {
          "base_uri": "https://localhost:8080/",
          "height": 358
        },
        "id": "J8RLflhUOLZa",
        "outputId": "2a1b112a-b554-4b8d-94af-0f925f401e9d"
      },
      "outputs": [],
      "source": [
        "#plt.figure(figsize = (20,20)) \n",
        "#wc = WordCloud(stopwords = stop_words, max_words = 2000 , width = 1600 , height = 800).generate(\" \".join(Data_set[Data_set.sentiment == 'Positive'].text))\n",
        "#plt.imshow(wc , interpolation = 'bilinear')"
      ]
    },
    {
      "cell_type": "markdown",
      "metadata": {
        "id": "5dW1hCiGSOXg"
      },
      "source": [
        "Mots **négatifs** les plus présents :"
      ]
    },
    {
      "cell_type": "code",
      "execution_count": 13,
      "metadata": {
        "colab": {
          "base_uri": "https://localhost:8080/",
          "height": 358
        },
        "id": "pfZFxVHxPM7w",
        "outputId": "d05574fe-9fca-4113-885f-fb0280ba6ed8"
      },
      "outputs": [],
      "source": [
        "#plt.figure(figsize = (20,20)) \n",
        "#wc = WordCloud(stopwords = stop_words, max_words = 2000 , width = 1600 , height = 800).generate(\" \".join(Data_set[Data_set.sentiment == 'Negative'].text))\n",
        "#plt.imshow(wc , interpolation = 'bilinear')"
      ]
    },
    {
      "cell_type": "markdown",
      "metadata": {
        "id": "x6VGZllfSgn8"
      },
      "source": [
        "### Entrainement du modèle"
      ]
    },
    {
      "cell_type": "code",
      "execution_count": 14,
      "metadata": {
        "id": "Zp7c12zcSmvA"
      },
      "outputs": [],
      "source": [
        "TRAIN_SIZE = 0.8\n",
        "MAX_NB_WORDS = 100000\n",
        "MAX_SEQUENCE_LENGTH = 30"
      ]
    },
    {
      "cell_type": "markdown",
      "metadata": {
        "id": "a-qh-W5eS9d_"
      },
      "source": [
        "Nous allons mélanger notre dataset afin d'avoir un entrainement qualitatif."
      ]
    },
    {
      "cell_type": "code",
      "execution_count": 15,
      "metadata": {
        "colab": {
          "base_uri": "https://localhost:8080/"
        },
        "id": "tES_Pl8ESpcY",
        "outputId": "b7f4f7e4-766e-42ba-98cd-285ee3093ac2"
      },
      "outputs": [
        {
          "name": "stdout",
          "output_type": "stream",
          "text": [
            "Train Data size: 1279999\n",
            "Test Data size 320000\n"
          ]
        }
      ],
      "source": [
        "train_data, test_data = train_test_split(Data_set, test_size=1-TRAIN_SIZE,\n",
        "                                         random_state=7) # Partge du dataset en set d'entrainement et de test\n",
        "\n",
        "print(\"Train Data size:\", len(train_data))\n",
        "print(\"Test Data size\", len(test_data))\n",
        "\n"
      ]
    },
    {
      "cell_type": "code",
      "execution_count": 16,
      "metadata": {
        "colab": {
          "base_uri": "https://localhost:8080/",
          "height": 363
        },
        "id": "cz7_yVwPTGhN",
        "outputId": "0bc4e888-5d3f-4bc5-d3de-a45505fa7aa8"
      },
      "outputs": [
        {
          "data": {
            "text/html": [
              "<div>\n",
              "<style scoped>\n",
              "    .dataframe tbody tr th:only-of-type {\n",
              "        vertical-align: middle;\n",
              "    }\n",
              "\n",
              "    .dataframe tbody tr th {\n",
              "        vertical-align: top;\n",
              "    }\n",
              "\n",
              "    .dataframe thead th {\n",
              "        text-align: right;\n",
              "    }\n",
              "</style>\n",
              "<table border=\"1\" class=\"dataframe\">\n",
              "  <thead>\n",
              "    <tr style=\"text-align: right;\">\n",
              "      <th></th>\n",
              "      <th>sentiment</th>\n",
              "      <th>text</th>\n",
              "    </tr>\n",
              "  </thead>\n",
              "  <tbody>\n",
              "    <tr>\n",
              "      <th>1176709</th>\n",
              "      <td>Positive</td>\n",
              "      <td>lol get coming good way mean way talented authors</td>\n",
              "    </tr>\n",
              "    <tr>\n",
              "      <th>641121</th>\n",
              "      <td>Negative</td>\n",
              "      <td>would miss dreaming anymore</td>\n",
              "    </tr>\n",
              "    <tr>\n",
              "      <th>1132400</th>\n",
              "      <td>Positive</td>\n",
              "      <td>poletii check following woman ahahha</td>\n",
              "    </tr>\n",
              "    <tr>\n",
              "      <th>130866</th>\n",
              "      <td>Negative</td>\n",
              "      <td>im sick thing would make feel better would pal...</td>\n",
              "    </tr>\n",
              "    <tr>\n",
              "      <th>1235875</th>\n",
              "      <td>Positive</td>\n",
              "      <td>sounds like cup tea sign</td>\n",
              "    </tr>\n",
              "    <tr>\n",
              "      <th>1568154</th>\n",
              "      <td>Positive</td>\n",
              "      <td>think going take hot bath amp listen lvatt</td>\n",
              "    </tr>\n",
              "    <tr>\n",
              "      <th>758235</th>\n",
              "      <td>Negative</td>\n",
              "      <td>feel tired today going gym</td>\n",
              "    </tr>\n",
              "    <tr>\n",
              "      <th>1446219</th>\n",
              "      <td>Positive</td>\n",
              "      <td>weekend resting peace finally</td>\n",
              "    </tr>\n",
              "    <tr>\n",
              "      <th>763239</th>\n",
              "      <td>Negative</td>\n",
              "      <td>sooo jealous hope one day make france go louvr...</td>\n",
              "    </tr>\n",
              "    <tr>\n",
              "      <th>584093</th>\n",
              "      <td>Negative</td>\n",
              "      <td>say cry hahah</td>\n",
              "    </tr>\n",
              "  </tbody>\n",
              "</table>\n",
              "</div>"
            ],
            "text/plain": [
              "        sentiment                                               text\n",
              "1176709  Positive  lol get coming good way mean way talented authors\n",
              "641121   Negative                        would miss dreaming anymore\n",
              "1132400  Positive               poletii check following woman ahahha\n",
              "130866   Negative  im sick thing would make feel better would pal...\n",
              "1235875  Positive                           sounds like cup tea sign\n",
              "1568154  Positive         think going take hot bath amp listen lvatt\n",
              "758235   Negative                         feel tired today going gym\n",
              "1446219  Positive                      weekend resting peace finally\n",
              "763239   Negative  sooo jealous hope one day make france go louvr...\n",
              "584093   Negative                                      say cry hahah"
            ]
          },
          "execution_count": 16,
          "metadata": {},
          "output_type": "execute_result"
        }
      ],
      "source": [
        "train_data.head(10)"
      ]
    },
    {
      "cell_type": "markdown",
      "metadata": {
        "id": "OgseMQOlTMPn"
      },
      "source": [
        "Nous pouvons donc voir que le dataset d'entrainement est bien mélangé."
      ]
    },
    {
      "cell_type": "markdown",
      "metadata": {
        "id": "Ya7h3K1iTZ48"
      },
      "source": [
        "### Transformation en Tokens"
      ]
    },
    {
      "cell_type": "markdown",
      "metadata": {
        "id": "xUqTKUdoTcu5"
      },
      "source": [
        "Le principe de \"**Tokenization**\" permet de couper une phrase (une séquence de mots (char)) en pièces, appelées \"Tokens\". Ce processus permet également de se débarasser de certains char tels que les ponctuations, qui nous sont inutiles dans notre cas."
      ]
    },
    {
      "cell_type": "markdown",
      "metadata": {
        "id": "s2WRIhz8ULK0"
      },
      "source": [
        "![Tokenization.png](data:image/png;base64,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)"
      ]
    },
    {
      "cell_type": "markdown",
      "metadata": {
        "id": "n-RD7hVBUtaT"
      },
      "source": [
        "L'objet \"tokenizer\" créé un token pour chaque mot dans le corpus de donnée et les ajoute dans un dictionnaire."
      ]
    },
    {
      "cell_type": "code",
      "execution_count": 17,
      "metadata": {
        "colab": {
          "base_uri": "https://localhost:8080/"
        },
        "id": "cwLf8DbCUKuo",
        "outputId": "da275775-9e69-4e18-f7bb-2cf56c584bf3"
      },
      "outputs": [
        {
          "name": "stdout",
          "output_type": "stream",
          "text": [
            "Vocab size:  290658\n"
          ]
        }
      ],
      "source": [
        "tokenizer = Tokenizer()\n",
        "tokenizer.fit_on_texts(train_data.text)\n",
        "\n",
        "word_index = tokenizer.word_index\n",
        "vocab_size = len(tokenizer.word_index) + 1\n",
        "print(\"Vocab size: \", vocab_size)"
      ]
    },
    {
      "cell_type": "markdown",
      "metadata": {
        "id": "x6qVQDCMVDk3"
      },
      "source": [
        "On peut donc maintenant convertir n'importe quel mot en une clé dans le dictionnaire.\n",
        "\n",
        "On va construire un modèle de séquence. Pour cela, on doit lui fournir une séquence de nombres. Et il faut qu'on fasse attention qu'il n'y ai pas de variance dans la taille des inputs.\n",
        "\n",
        "Le problème étant que le texte des tweets on pas forcément tous le même nombres de mots. Pour éviter ce problème, on va utiliser *pad_sequence* pour avoir toute les séquences de même taille, MAX_SEQUENCE_LENGHT.\n",
        "\n"
      ]
    },
    {
      "cell_type": "code",
      "execution_count": 18,
      "metadata": {
        "colab": {
          "base_uri": "https://localhost:8080/"
        },
        "id": "iD3zuZLqgVTR",
        "outputId": "939888d4-ba68-4178-f23b-2b666f5149f4"
      },
      "outputs": [
        {
          "name": "stdout",
          "output_type": "stream",
          "text": [
            "Training X Shape: (1279999, 30)\n",
            "Testing X Shape: (320000, 30)\n",
            "xtrain: <class 'numpy.ndarray'>\n",
            "xtest: <class 'numpy.ndarray'>\n"
          ]
        }
      ],
      "source": [
        "x_train = pad_sequences(tokenizer.texts_to_sequences(train_data.text),\n",
        "                        maxlen = MAX_SEQUENCE_LENGTH)\n",
        "x_test = pad_sequences(tokenizer.texts_to_sequences(test_data.text),\n",
        "                       maxlen = MAX_SEQUENCE_LENGTH)\n",
        "\n",
        "print(\"Training X Shape:\",x_train.shape)\n",
        "print(\"Testing X Shape:\",x_test.shape)\n",
        "\n",
        "print(\"xtrain:\", type(x_train))\n",
        "print(\"xtest:\",type(x_test))"
      ]
    },
    {
      "cell_type": "code",
      "execution_count": 19,
      "metadata": {
        "id": "aa-bgW27iIbs"
      },
      "outputs": [],
      "source": [
        "labels = train_data.sentiment.unique().tolist()"
      ]
    },
    {
      "cell_type": "markdown",
      "metadata": {
        "id": "qDQI_5jZiPYf"
      },
      "source": [
        "### Encoder les labels"
      ]
    },
    {
      "cell_type": "markdown",
      "metadata": {
        "id": "chendPBLiY0A"
      },
      "source": [
        "Notre modèle est une classification binaire (0 ou 1, positif ou négatif), il faut donc que nos labels soit sous formes encodés."
      ]
    },
    {
      "cell_type": "code",
      "execution_count": 20,
      "metadata": {
        "colab": {
          "base_uri": "https://localhost:8080/"
        },
        "id": "L-LVSx1kir4P",
        "outputId": "72375015-4baa-48a7-b6b9-e79cfd57896f"
      },
      "outputs": [
        {
          "name": "stdout",
          "output_type": "stream",
          "text": [
            "y_train shape: (1279999, 1)\n",
            "y_test shape: (320000, 1)\n",
            "xtrain: <class 'numpy.ndarray'>\n",
            "xtest: <class 'numpy.ndarray'>\n"
          ]
        }
      ],
      "source": [
        "encoder = LabelEncoder()\n",
        "encoder.fit(train_data.sentiment.to_list())\n",
        "\n",
        "y_train = encoder.transform(train_data.sentiment.to_list())\n",
        "y_test = encoder.transform(test_data.sentiment.to_list())\n",
        "\n",
        "y_train = y_train.reshape(-1,1)\n",
        "y_test = y_test.reshape(-1,1)\n",
        "\n",
        "print(\"y_train shape:\", y_train.shape)\n",
        "print(\"y_test shape:\", y_test.shape)\n",
        "\n",
        "print(\"xtrain:\", type(y_train))\n",
        "print(\"xtest:\",type(y_test))"
      ]
    },
    {
      "cell_type": "markdown",
      "metadata": {
        "id": "29IvjntBi_tZ"
      },
      "source": [
        "### Embedding des mots"
      ]
    },
    {
      "cell_type": "markdown",
      "metadata": {
        "id": "j1wzmZo9jHGF"
      },
      "source": [
        "Le principe de \"Word Embedding\" permet de capturer le context d'un mot selon la phrase dans laquelle il est utilisé, sa sémantique etc...\n",
        "\n",
        "Dans notre cas, cela va permettre à notre modèle de comprendre plus facilement à quoi correspond chaque mots.\n",
        "\n",
        "Pour ne pas avoir à entrainer nous même notre système, on va utiliser **Transfer Learning**, ce qui va nous permettre de télécharger un embedding pré-entrainé et l'appliquer à notre modèle.\n",
        "\n",
        "Nous avons trouvé un Word Embedding pré-entrainé nommé \"GloVe\" de Stanford AI, et c'est celui que nous allons utilisé."
      ]
    },
    {
      "cell_type": "code",
      "execution_count": 61,
      "metadata": {
        "id": "U8r2lXRNlFCL"
      },
      "outputs": [],
      "source": [
        "GLOVE_EMB = 'glove.6B.300d.txt'\n",
        "EMBEDDING_DIM = 300\n",
        "LR = 1e-3\n",
        "BATCH_SIZE = 1024\n",
        "EPOCHS = 100"
      ]
    },
    {
      "cell_type": "code",
      "execution_count": 52,
      "metadata": {
        "colab": {
          "base_uri": "https://localhost:8080/"
        },
        "id": "5Q3Pih0ZlI3O",
        "outputId": "75216756-a9c8-429d-c97e-36ebce912eb0"
      },
      "outputs": [
        {
          "name": "stdout",
          "output_type": "stream",
          "text": [
            "Found 400000 word vectors.\n"
          ]
        }
      ],
      "source": [
        "embeddings_index = {}\n",
        "\n",
        "f = codecs.open(GLOVE_EMB, 'r', encoding='utf-8', errors='ignore')\n",
        "for line in f:\n",
        "  values = line.split()\n",
        "  word = value = values[0]\n",
        "  coefs = np.asarray(values[1:], dtype='float32')\n",
        "  embeddings_index[word] = coefs\n",
        "f.close()\n",
        "\n",
        "print('Found %s word vectors.' %len(embeddings_index))"
      ]
    },
    {
      "cell_type": "code",
      "execution_count": 53,
      "metadata": {
        "colab": {
          "base_uri": "https://localhost:8080/"
        },
        "id": "l-8qt-wRl5ra",
        "outputId": "4fae7189-2123-4204-c220-d2b42000bd2b"
      },
      "outputs": [
        {
          "name": "stdout",
          "output_type": "stream",
          "text": [
            "Embedding matrix: [[ 0.          0.          0.         ...  0.          0.\n",
            "   0.        ]\n",
            " [-0.13602    -0.11594    -0.017078   ... -0.33759999  0.070098\n",
            "   0.24642   ]\n",
            " [-0.24501    -0.12491    -0.2536     ... -0.41073    -0.61926001\n",
            "   0.0039007 ]\n",
            " ...\n",
            " [ 0.          0.          0.         ...  0.          0.\n",
            "   0.        ]\n",
            " [ 0.          0.          0.         ...  0.          0.\n",
            "   0.        ]\n",
            " [ 0.          0.          0.         ...  0.          0.\n",
            "   0.        ]]\n"
          ]
        }
      ],
      "source": [
        "embedding_matrix = np.zeros((vocab_size, EMBEDDING_DIM))\n",
        "for word, i in word_index.items():\n",
        "  embedding_vector = embeddings_index.get(word)\n",
        "  if embedding_vector is not None:\n",
        "    embedding_matrix[i] = embedding_vector\n",
        "\n",
        "print('Embedding matrix:', embedding_matrix)"
      ]
    },
    {
      "cell_type": "code",
      "execution_count": 54,
      "metadata": {
        "colab": {
          "base_uri": "https://localhost:8080/"
        },
        "id": "pIcncJisl8Om",
        "outputId": "3d01d198-4281-499c-e5df-46c27de700af"
      },
      "outputs": [
        {
          "name": "stdout",
          "output_type": "stream",
          "text": [
            "weight:  tensor([[ 0.0000,  0.0000,  0.0000,  ...,  0.0000,  0.0000,  0.0000],\n",
            "        [-0.1360, -0.1159, -0.0171,  ..., -0.3376,  0.0701,  0.2464],\n",
            "        [-0.2450, -0.1249, -0.2536,  ..., -0.4107, -0.6193,  0.0039],\n",
            "        ...,\n",
            "        [ 0.0000,  0.0000,  0.0000,  ...,  0.0000,  0.0000,  0.0000],\n",
            "        [ 0.0000,  0.0000,  0.0000,  ...,  0.0000,  0.0000,  0.0000],\n",
            "        [ 0.0000,  0.0000,  0.0000,  ...,  0.0000,  0.0000,  0.0000]])\n"
          ]
        }
      ],
      "source": [
        "weight = torch.FloatTensor(embedding_matrix)\n",
        "print(\"weight: \",weight)"
      ]
    },
    {
      "cell_type": "markdown",
      "metadata": {
        "id": "tnVOxQqJNvzc"
      },
      "source": [
        "## Entrainement du modèle en LSTM"
      ]
    },
    {
      "cell_type": "markdown",
      "metadata": {
        "id": "OanfU4efN4GH"
      },
      "source": [
        "Nous allons utiliser des modèles de séquences puisque le problème principal de notre dataset, comme nous pouvons le voir dans notre nuage de mots, est que certains mots sont prédominants à la fois dans les tweets négatifs, et à la fois dans les tweets positifs."
      ]
    },
    {
      "cell_type": "markdown",
      "metadata": {
        "id": "qnbP1BxkPQuD"
      },
      "source": [
        "![Sequence_model.png](data:image/png;base64,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)"
      ]
    },
    {
      "cell_type": "markdown",
      "metadata": {
        "id": "rpbi5caBRhgM"
      },
      "source": [
        "Le réseau de neuronnes va donc sortir une prédiction de valeur scalaire."
      ]
    },
    {
      "cell_type": "markdown",
      "metadata": {
        "id": "cQml-0L_RzM8"
      },
      "source": [
        "Notre modèle aura plusieurs layers:\n",
        "\n",
        "-L'**Embedding layer** que nous avons déjà créé précédemment. Il va générer un vecteur pour chaque séquence d'entrée.\n",
        "\n",
        "-Un **Conv1D layer** qui va convoluer les valeurs en vecteur de caractéristiques.\n",
        "\n",
        "-Le **LSTM** (Long-Short Term Memory), qui est une variante du RNN et qui possède une mémoire pour apprendre le contexte des mots se trouvant plus loin dans le texte et donc donner du sens contextuel plutot que le faire simplement avec ses voisins.\n",
        "\n",
        "-Un **Dense layer**, qui est un FCL (fully-connected layer), qui nous sera utilie pour la classification."
      ]
    },
    {
      "cell_type": "code",
      "execution_count": 35,
      "metadata": {},
      "outputs": [
        {
          "name": "stdout",
          "output_type": "stream",
          "text": [
            "GPU is available\n"
          ]
        }
      ],
      "source": [
        "is_cuda = torch.cuda.is_available()\n",
        "\n",
        "# If we have a GPU available, we'll set our device to GPU. We'll use this device variable later in our code.\n",
        "if is_cuda:\n",
        "    device = torch.device(\"cuda:0\")\n",
        "    print(\"GPU is available\")\n",
        "else:\n",
        "    device = torch.device(\"cpu\")\n",
        "    print(\"GPU not available, CPU used\")"
      ]
    },
    {
      "cell_type": "code",
      "execution_count": 55,
      "metadata": {},
      "outputs": [],
      "source": [
        "# création de datasets de type tensor\n",
        "train_data = TensorDataset(torch.from_numpy(x_train), torch.from_numpy(y_train))\n",
        "valid_data = TensorDataset(torch.from_numpy(x_test), torch.from_numpy(y_test))\n",
        "\n",
        "# mélange des données\n",
        "train_loader = DataLoader(train_data, shuffle=True, batch_size=BATCH_SIZE, drop_last=True)\n",
        "valid_loader = DataLoader(valid_data, shuffle=True, batch_size=BATCH_SIZE, drop_last=True)\n",
        "\n"
      ]
    },
    {
      "cell_type": "code",
      "execution_count": 56,
      "metadata": {},
      "outputs": [
        {
          "name": "stdout",
          "output_type": "stream",
          "text": [
            "Sample input size:  torch.Size([1024, 30])\n",
            "Sample input: \n",
            " tensor([[     0,      0,      0,  ...,      0,      0,     28],\n",
            "        [     0,      0,      0,  ...,    380, 247979,    103],\n",
            "        [     0,      0,      0,  ...,     59,      1,     23],\n",
            "        ...,\n",
            "        [     0,      0,      0,  ...,    697,    459,     69],\n",
            "        [     0,      0,      0,  ...,    637,    175,    637],\n",
            "        [     0,      0,      0,  ...,  20949,   7011,      5]],\n",
            "       dtype=torch.int32)\n",
            "Sample input: \n",
            " tensor([[1],\n",
            "        [1],\n",
            "        [1],\n",
            "        ...,\n",
            "        [1],\n",
            "        [0],\n",
            "        [0]], dtype=torch.int32)\n",
            "torch.Size([1024, 30])\n",
            "torch.Size([1024, 1])\n"
          ]
        }
      ],
      "source": [
        "# batch de données d'entrainement\n",
        "dataiter = iter(train_loader)\n",
        "sample_x, sample_y = dataiter.next()\n",
        "\n",
        "print('Sample input size: ', sample_x.size())\n",
        "print('Sample input: \\n', sample_x)\n",
        "print('Sample input: \\n', sample_y)\n",
        "print(sample_x.shape)\n",
        "print(sample_y.shape)"
      ]
    },
    {
      "cell_type": "markdown",
      "metadata": {},
      "source": [
        "model"
      ]
    },
    {
      "cell_type": "code",
      "execution_count": 62,
      "metadata": {},
      "outputs": [],
      "source": [
        "class SentimentRNN(nn.Module):\n",
        "    def __init__(self,no_layers,vocab_size,hidden_dim,embedding_dim,drop_prob=0.5):\n",
        "        super(SentimentRNN,self).__init__()\n",
        " \n",
        "        self.output_dim = output_dim\n",
        "        self.hidden_dim = hidden_dim\n",
        " \n",
        "        self.no_layers = no_layers\n",
        "        self.vocab_size = vocab_size\n",
        "    \n",
        "        # embedding and LSTM layers\n",
        "        self.embedding = nn.Embedding(vocab_size, embedding_dim)\n",
        "        \n",
        "        #lstm\n",
        "        self.lstm = nn.LSTM(input_size=embedding_dim,hidden_size=self.hidden_dim,\n",
        "                           num_layers=no_layers, batch_first=True)\n",
        "        \n",
        "        \n",
        "        # dropout layer\n",
        "        self.dropout = nn.Dropout(0.3)\n",
        "    \n",
        "        # linear and sigmoid layer\n",
        "        self.fc = nn.Linear(self.hidden_dim, output_dim)\n",
        "        self.sig = nn.Sigmoid()\n",
        "        \n",
        "    def forward(self,x,hidden):\n",
        "        BATCH_SIZE = x.size(0)\n",
        "        # embeddings and lstm_out\n",
        "        embeds = self.embedding(x)  # shape: B x S x Feature   since batch = True\n",
        "        #print(\"x:\", x.shape)\n",
        "        #print(\"batch_size:\", BATCH_SIZE)\n",
        "        #print(\"embeds:\",embeds.shape)  #[50, 500, 1000]\n",
        "        #print(\"hidden:\", hidden[0].shape)\n",
        "        lstm_out, hidden = self.lstm(embeds, hidden)\n",
        "        \n",
        "        lstm_out = lstm_out.contiguous().view(-1, self.hidden_dim) \n",
        "        #print(\"lstm_out:\", lstm_out.shape)\n",
        "        \n",
        "        # dropout and fully connected layer\n",
        "        out = self.dropout(lstm_out)\n",
        "        #print(\"out after dropout:\", out.shape)\n",
        "        out = self.fc(out)\n",
        "        #print(\"out after fc:\", out.shape)\n",
        "        \n",
        "        # sigmoid function\n",
        "        sig_out = self.sig(out)\n",
        "        #print(\"sig_out:\", sig_out.shape)\n",
        "        \n",
        "        # reshape to be batch_size first\n",
        "        sig_out = sig_out.view(BATCH_SIZE, -1)\n",
        "        #print(\"sig_out after view:\", sig_out.shape)\n",
        "\n",
        "        sig_out = sig_out[:, -1] # get last batch of labels\n",
        "        #print(\"sig_out after batch:\", sig_out.shape)\n",
        "        \n",
        "        # return last sigmoid output and hidden state\n",
        "        return sig_out, hidden\n",
        "        \n",
        "        \n",
        "        \n",
        "    def init_hidden(self, BATCH_SIZE):\n",
        "        ''' Initializes hidden state '''\n",
        "        # Create two new tensors with sizes n_layers x batch_size x hidden_dim,\n",
        "        # initialized to zero, for hidden state and cell state of LSTM\n",
        "        h0 = torch.zeros((self.no_layers,BATCH_SIZE,self.hidden_dim)).to(device)\n",
        "        c0 = torch.zeros((self.no_layers,BATCH_SIZE,self.hidden_dim)).to(device)\n",
        "        hidden = (h0,c0)\n",
        "        #print(h0.shape)\n",
        "        #print(c0.shape)\n",
        "        return hidden\n"
      ]
    },
    {
      "cell_type": "code",
      "execution_count": 63,
      "metadata": {},
      "outputs": [
        {
          "name": "stdout",
          "output_type": "stream",
          "text": [
            "SentimentRNN(\n",
            "  (embedding): Embedding(290664, 300)\n",
            "  (lstm): LSTM(300, 256, num_layers=2, batch_first=True)\n",
            "  (dropout): Dropout(p=0.3, inplace=False)\n",
            "  (fc): Linear(in_features=256, out_features=1, bias=True)\n",
            "  (sig): Sigmoid()\n",
            ")\n"
          ]
        }
      ],
      "source": [
        "no_layers = 2\n",
        "vocab_size = vocab_size + 1 #extra 1 for padding\n",
        "output_dim = 1\n",
        "hidden_dim = 256\n",
        "\n",
        "\n",
        "model = SentimentRNN(no_layers,vocab_size,hidden_dim,EMBEDDING_DIM,drop_prob=0.5)\n",
        "\n",
        "#moving to gpu\n",
        "model.to(device)\n",
        "\n",
        "print(model)"
      ]
    },
    {
      "cell_type": "markdown",
      "metadata": {},
      "source": [
        "Train"
      ]
    },
    {
      "cell_type": "code",
      "execution_count": 64,
      "metadata": {},
      "outputs": [],
      "source": [
        "criterion = nn.BCELoss()\n",
        "\n",
        "optimizer = torch.optim.Adam(model.parameters(), lr=LR)\n",
        "\n",
        "# function to predict accuracy\n",
        "def acc(pred,label):\n",
        "    pred = torch.round(pred.squeeze())\n",
        "    return torch.sum(pred == label.squeeze()).item()"
      ]
    },
    {
      "cell_type": "code",
      "execution_count": 65,
      "metadata": {},
      "outputs": [
        {
          "name": "stdout",
          "output_type": "stream",
          "text": [
            "Epoch 1\n",
            "train_loss : 0.4784904742737213 val_loss : 0.45025573069086444\n",
            "train_accuracy : 76.5768567006693 val_accuracy : 78.51656249999999\n",
            "Validation loss decreased (inf --> 0.450256).  Saving model ...\n",
            "==================================================\n",
            "Epoch 2\n",
            "train_loss : 0.4214572847318993 val_loss : 0.44278030345837277\n",
            "train_accuracy : 80.30842211595478 val_accuracy : 79.04375\n",
            "Validation loss decreased (0.450256 --> 0.442780).  Saving model ...\n",
            "==================================================\n",
            "Epoch 3\n",
            "train_loss : 0.37739860894586486 val_loss : 0.45129746447006863\n",
            "train_accuracy : 82.81639282530689 val_accuracy : 78.8190625\n",
            "==================================================\n",
            "Epoch 4\n",
            "train_loss : 0.3225318150008746 val_loss : 0.49270513128393734\n",
            "train_accuracy : 85.68709819304546 val_accuracy : 78.27187500000001\n",
            "==================================================\n"
          ]
        },
        {
          "ename": "KeyboardInterrupt",
          "evalue": "",
          "output_type": "error",
          "traceback": [
            "\u001b[1;31m---------------------------------------------------------------------------\u001b[0m",
            "\u001b[1;31mKeyboardInterrupt\u001b[0m                         Traceback (most recent call last)",
            "\u001b[1;32m~\\AppData\\Local\\Temp/ipykernel_8064/3013121440.py\u001b[0m in \u001b[0;36m<module>\u001b[1;34m\u001b[0m\n\u001b[0;32m     14\u001b[0m     \u001b[1;32mfor\u001b[0m \u001b[0minputs\u001b[0m\u001b[1;33m,\u001b[0m \u001b[0mlabels\u001b[0m \u001b[1;32min\u001b[0m \u001b[0mtrain_loader\u001b[0m\u001b[1;33m:\u001b[0m\u001b[1;33m\u001b[0m\u001b[1;33m\u001b[0m\u001b[0m\n\u001b[0;32m     15\u001b[0m \u001b[1;33m\u001b[0m\u001b[0m\n\u001b[1;32m---> 16\u001b[1;33m         \u001b[0minputs\u001b[0m\u001b[1;33m,\u001b[0m \u001b[0mlabels\u001b[0m \u001b[1;33m=\u001b[0m \u001b[0minputs\u001b[0m\u001b[1;33m.\u001b[0m\u001b[0mto\u001b[0m\u001b[1;33m(\u001b[0m\u001b[0mdevice\u001b[0m\u001b[1;33m)\u001b[0m\u001b[1;33m,\u001b[0m \u001b[0mlabels\u001b[0m\u001b[1;33m.\u001b[0m\u001b[0mto\u001b[0m\u001b[1;33m(\u001b[0m\u001b[0mdevice\u001b[0m\u001b[1;33m)\u001b[0m\u001b[1;33m\u001b[0m\u001b[1;33m\u001b[0m\u001b[0m\n\u001b[0m\u001b[0;32m     17\u001b[0m         \u001b[1;31m# Creating new variables for the hidden state, otherwise\u001b[0m\u001b[1;33m\u001b[0m\u001b[1;33m\u001b[0m\u001b[0m\n\u001b[0;32m     18\u001b[0m         \u001b[1;31m# we'd backprop through the entire training history\u001b[0m\u001b[1;33m\u001b[0m\u001b[1;33m\u001b[0m\u001b[0m\n",
            "\u001b[1;31mKeyboardInterrupt\u001b[0m: "
          ]
        }
      ],
      "source": [
        "clip = 5\n",
        "valid_loss_min = np.Inf\n",
        "# train for some number of epochs\n",
        "epoch_tr_loss,epoch_vl_loss = [],[]\n",
        "epoch_tr_acc,epoch_vl_acc = [],[]\n",
        "\n",
        "for epoch in range(EPOCHS):\n",
        "    train_losses = []\n",
        "    train_acc = 0.0\n",
        "    model.train()\n",
        "    # initialize hidden state \n",
        "    #print(\"batchsize:\",BATCH_SIZE)\n",
        "    h = model.init_hidden(BATCH_SIZE)\n",
        "    for inputs, labels in train_loader:\n",
        "        \n",
        "        inputs, labels = inputs.to(device), labels.to(device)   \n",
        "        # Creating new variables for the hidden state, otherwise\n",
        "        # we'd backprop through the entire training history\n",
        "        h = tuple([each.data for each in h])\n",
        "        \n",
        "        model.zero_grad()\n",
        "        output,h = model(inputs,h)\n",
        "        #print(\"input:\", inputs.shape)\n",
        "        #print(\"labels:\", labels.shape)\n",
        "        #print(\"output:\",output.shape)\n",
        "        \n",
        "        \n",
        "        # calculate the loss and perform backprop\n",
        "        loss = criterion(output.squeeze(), labels.squeeze().float())\n",
        "        loss.backward()\n",
        "        train_losses.append(loss.item())\n",
        "        # calculating accuracy\n",
        "        accuracy = acc(output,labels)\n",
        "        train_acc += accuracy\n",
        "        #`clip_grad_norm` helps prevent the exploding gradient problem in RNNs / LSTMs.\n",
        "        nn.utils.clip_grad_norm_(model.parameters(), clip)\n",
        "        optimizer.step()\n",
        " \n",
        "    \n",
        "        \n",
        "    val_h = model.init_hidden(BATCH_SIZE)\n",
        "    val_losses = []\n",
        "    val_acc = 0.0\n",
        "    model.eval()\n",
        "    for inputs, labels in valid_loader:\n",
        "            val_h = tuple([each.data for each in val_h])\n",
        "\n",
        "            inputs, labels = inputs.to(device), labels.to(device)\n",
        "\n",
        "            output, val_h = model(inputs, val_h)\n",
        "            val_loss = criterion(output.squeeze(), labels.squeeze().float())\n",
        "\n",
        "            val_losses.append(val_loss.item())\n",
        "            \n",
        "            accuracy = acc(output,labels)\n",
        "            val_acc += accuracy\n",
        "            \n",
        "    epoch_train_loss = np.mean(train_losses)\n",
        "    epoch_val_loss = np.mean(val_losses)\n",
        "    epoch_train_acc = train_acc/len(train_loader.dataset)\n",
        "    epoch_val_acc = val_acc/len(valid_loader.dataset)\n",
        "    epoch_tr_loss.append(epoch_train_loss)\n",
        "    epoch_vl_loss.append(epoch_val_loss)\n",
        "    epoch_tr_acc.append(epoch_train_acc)\n",
        "    epoch_vl_acc.append(epoch_val_acc)\n",
        "    print(f'Epoch {epoch+1}') \n",
        "    print(f'train_loss : {epoch_train_loss} val_loss : {epoch_val_loss}')\n",
        "    print(f'train_accuracy : {epoch_train_acc*100} val_accuracy : {epoch_val_acc*100}')\n",
        "    if epoch_val_loss <= valid_loss_min:\n",
        "        torch.save(model.state_dict(), 'state_dict.pt')\n",
        "        print('Validation loss decreased ({:.6f} --> {:.6f}).  Saving model ...'.format(valid_loss_min,epoch_val_loss))\n",
        "        valid_loss_min = epoch_val_loss\n",
        "    print(25*'==')"
      ]
    },
    {
      "cell_type": "code",
      "execution_count": 44,
      "metadata": {},
      "outputs": [
        {
          "data": {
            "image/png": "[encoded data removed]",
            "text/plain": [
              "<Figure size 1440x432 with 2 Axes>"
            ]
          },
          "metadata": {
            "needs_background": "light"
          },
          "output_type": "display_data"
        }
      ],
      "source": [
        "fig = plt.figure(figsize = (20, 6))\n",
        "plt.subplot(1, 2, 1)\n",
        "plt.plot(epoch_tr_acc, label='Train Acc')\n",
        "plt.plot(epoch_vl_acc, label='Validation Acc')\n",
        "plt.title(\"Accuracy\")\n",
        "plt.legend()\n",
        "plt.grid()\n",
        "    \n",
        "plt.subplot(1, 2, 2)\n",
        "plt.plot(epoch_tr_loss, label='Train loss')\n",
        "plt.plot(epoch_vl_loss, label='Validation loss')\n",
        "plt.title(\"Loss\")\n",
        "plt.legend()\n",
        "plt.grid()\n",
        "\n",
        "plt.show()"
      ]
    }
  ],
  "metadata": {
    "colab": {
      "collapsed_sections": [],
      "provenance": []
    },
    "kernelspec": {
      "display_name": "Python 3.10.0 64-bit",
      "language": "python",
      "name": "python3"
    },
    "language_info": {
      "codemirror_mode": {
        "name": "ipython",
        "version": 3
      },
      "file_extension": ".py",
      "mimetype": "text/x-python",
      "name": "python",
      "nbconvert_exporter": "python",
      "pygments_lexer": "ipython3",
      "version": "3.10.0"
    },
    "vscode": {
      "interpreter": {
        "hash": "f1c7bcab3833884d0bd38fa6c46bc5d8868ded3c99ec8b7a7b06e4c77d14dacb"
      }
    }
  },
  "nbformat": 4,
  "nbformat_minor": 0
}
